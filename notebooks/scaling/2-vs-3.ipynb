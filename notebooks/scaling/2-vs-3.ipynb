{
 "cells": [
  {
   "cell_type": "code",
   "execution_count": null,
   "metadata": {},
   "outputs": [],
   "source": [
    "from matplotlib import pyplot as plt\n",
    "import plotly.express as px\n",
    "import pandas as pd\n",
    "import numpy as np\n",
    "import scipy"
   ]
  },
  {
   "cell_type": "code",
   "execution_count": null,
   "metadata": {},
   "outputs": [],
   "source": [
    "# df_2_2 = pd.read_csv(\"84m62mn1,n_reg=2,concurrent_reg=2.csv\")\n",
    "# df_3_3 = pd.read_csv(\"x3ef5jj1,n_reg=3,concurrent_reg=3.csv\")\n",
    "# df_3_2 = pd.read_csv(\"zctyznwg,n_reg=3,concurrent_reg=2.csv\")\n",
    "\n",
    "# filename1 = \"./shwv3iys,n_reg=50,concurrent_reg=2,seq_len=20.csv\"\n",
    "# filename2 = \"./8qejrp9n,n_reg=50,concurrent_reg=3,seq_len=20.csv\"\n",
    "# filename3 = \"./x0wla7ce,n_reg=50,concurrent_reg=4,seq_len=20.csv\"\n",
    "\n",
    "filename1 = \"rb7u44gj,n_reg=2,concurrent_reg=2,n_train=10_000.csv\"\n",
    "filename2 = \"gv8oc4n3,n_reg=3,concurrent_reg=2,n_train=10_000.csv\"\n",
    "filename3 = \"7dbv1sd9,n_reg=3,concurrent_reg=3,n_train=10_000.csv\"\n",
    "\n",
    "files = [filename1, filename2, filename3]"
   ]
  },
  {
   "cell_type": "code",
   "execution_count": null,
   "metadata": {},
   "outputs": [],
   "source": [
    "# pick rows by the filtered columns\n",
    "def preproc(df):\n",
    "    filtered_columns = [\n",
    "        *filter(lambda x: all(s not in x for s in [\"MIN\", \"MAX\", \"_step\"]), df.columns)\n",
    "    ]\n",
    "    # remove the columns not present in the filtered columns\n",
    "    return df[filtered_columns]\n",
    "\n",
    "\n",
    "# df_2_2 = preproc(df_2_2)\n",
    "# df_3_3 = preproc(df_3_3)\n",
    "# df_3_2 = preproc(df_3_2)"
   ]
  },
  {
   "cell_type": "code",
   "execution_count": null,
   "metadata": {},
   "outputs": [],
   "source": [
    "# df_2_2.shape, df_3_2.shape, df_3_3.shape\n",
    "# # df_2_2.shape, df_3_2.shape, df_3_3.shape"
   ]
  },
  {
   "cell_type": "code",
   "execution_count": null,
   "metadata": {},
   "outputs": [],
   "source": [
    "def plot(\n",
    "    df: pd.DataFrame,\n",
    "    a,\n",
    "    alpha=0.1,\n",
    "    skip_steps=100,\n",
    "    upper_limit=40_000,\n",
    "    sample_rate=1,\n",
    "    average_sample_rate=100,\n",
    "    label=None,\n",
    "    color=None,\n",
    "):\n",
    "    # the first column is the step count\n",
    "    # we exclude the first few steps to remove initial noisy conditions\n",
    "    runs = df.iloc[skip_steps:upper_limit:sample_rate, 1:]\n",
    "    a.plot(\n",
    "        runs,\n",
    "        # df.iloc[skip_steps:, 0],\n",
    "        # df.iloc[skip_steps:, 1:],\n",
    "        alpha=alpha,\n",
    "        color=color,\n",
    "        label=label,\n",
    "    )\n",
    "    # also plot the average at each time step\n",
    "    a.plot(\n",
    "        runs.mean(axis=1).iloc[::average_sample_rate],\n",
    "        color=color,\n",
    "        alpha=1,\n",
    "        linewidth=2,\n",
    "        linestyle=\"--\",\n",
    "        # label=f\"{label} (avg)\",\n",
    "    )"
   ]
  },
  {
   "cell_type": "code",
   "execution_count": null,
   "metadata": {},
   "outputs": [],
   "source": [
    "fig, ax = plt.subplots(\n",
    "    # len(files),\n",
    "    # 1,\n",
    "    figsize=(10, 6),\n",
    ")\n",
    "\n",
    "cmap = plt.get_cmap(\"tab10\")\n",
    "\n",
    "for i, filename in enumerate(files):\n",
    "    df = preproc(pd.read_csv(filename))\n",
    "    plot(df, ax, label=filename, color=cmap(i), alpha=0.05)\n",
    "    # ax[i].set_title(filename)\n",
    "\n",
    "\n",
    "# Deduplicate legend entries\n",
    "handles, labels = ax.get_legend_handles_labels()\n",
    "unique = dict(zip(labels, handles))\n",
    "leg = ax.legend(unique.values(), unique.keys())\n",
    "\n",
    "for lh in leg.legend_handles:\n",
    "    lh.set_alpha(1)\n",
    "\n",
    "\n",
    "for a in [ax]:\n",
    "    a.set_xlabel(\"step\")\n",
    "    a.set_ylabel(\"loss\")\n",
    "    a.set_ylim(1e-2, 1)\n",
    "    a.set_yscale(\"log\")\n",
    "    a.grid()\n",
    "\n",
    "plt.tight_layout()\n",
    "plt.show()"
   ]
  }
 ],
 "metadata": {
  "kernelspec": {
   "display_name": ".venv",
   "language": "python",
   "name": "python3"
  },
  "language_info": {
   "codemirror_mode": {
    "name": "ipython",
    "version": 3
   },
   "file_extension": ".py",
   "mimetype": "text/x-python",
   "name": "python",
   "nbconvert_exporter": "python",
   "pygments_lexer": "ipython3",
   "version": "3.10.15"
  }
 },
 "nbformat": 4,
 "nbformat_minor": 2
}
