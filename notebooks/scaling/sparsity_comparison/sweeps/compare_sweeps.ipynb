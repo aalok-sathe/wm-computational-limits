{
 "cells": [
  {
   "cell_type": "code",
   "execution_count": null,
   "id": "0bdbc0a7",
   "metadata": {},
   "outputs": [],
   "source": [
    "import seaborn as sns\n",
    "import pandas as pd\n",
    "import matplotlib.pyplot as plt\n",
    "from pathlib import Path"
   ]
  },
  {
   "cell_type": "code",
   "execution_count": null,
   "id": "a55dd23f",
   "metadata": {},
   "outputs": [],
   "source": [
    "!ls"
   ]
  },
  {
   "cell_type": "code",
   "execution_count": null,
   "id": "914947d6",
   "metadata": {},
   "outputs": [],
   "source": [
    "df = pd.concat(map(pd.read_csv, Path(\".\").glob(\"*.csv\"))).reset_index(drop=True)\n",
    "df"
   ]
  },
  {
   "cell_type": "code",
   "execution_count": null,
   "id": "2749cf8d",
   "metadata": {},
   "outputs": [],
   "source": [
    "view = df  # [df['data']]\n",
    "# fig, ax = plt.subplots(figsize=(9, 5))\n",
    "g = sns.FacetGrid(\n",
    "    view,\n",
    "    row=\"model.d_head\",\n",
    "    # col_wrap=3,\n",
    "    col=\"model.d_model\",\n",
    "    # row_wrap=4,\n",
    "    height=4,\n",
    "    sharex=False,\n",
    "    sharey=True,\n",
    ")\n",
    "g.map_dataframe(\n",
    "    sns.scatterplot,\n",
    "    x=\"trainer.learning_rate\",\n",
    "    y=\"eval_acc\",\n",
    "    hue=\"trainer.sparsity\",\n",
    "    style=\"dataset.concurrent_reg\",\n",
    "    edgecolor=\"none\",\n",
    "    s=40,\n",
    "    alpha=0.9,\n",
    "    palette=sns.color_palette(\"rocket\", n_colors=3),\n",
    ")\n",
    "# g.add_legend()\n",
    "for ax in g.axes.flatten():\n",
    "    ax.set_xscale(\"log\")\n",
    "    ax.set_yscale(\"log\")\n",
    "plt.tight_layout()\n",
    "plt.legend(bbox_to_anchor=(1.01, 1), loc=2)\n",
    "plt.xscale(\"log\")\n",
    "plt.tight_layout()"
   ]
  }
 ],
 "metadata": {
  "kernelspec": {
   "display_name": ".venv",
   "language": "python",
   "name": "python3"
  },
  "language_info": {
   "codemirror_mode": {
    "name": "ipython",
    "version": 3
   },
   "file_extension": ".py",
   "mimetype": "text/x-python",
   "name": "python",
   "nbconvert_exporter": "python",
   "pygments_lexer": "ipython3",
   "version": "3.10.15"
  }
 },
 "nbformat": 4,
 "nbformat_minor": 5
}
