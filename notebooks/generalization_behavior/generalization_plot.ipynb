{
 "cells": [
  {
   "cell_type": "code",
   "execution_count": null,
   "id": "d4a7b971",
   "metadata": {},
   "outputs": [],
   "source": [
    "import pandas as pd\n",
    "import numpy as np\n",
    "import seaborn as sns\n",
    "from matplotlib import pyplot as plt"
   ]
  },
  {
   "cell_type": "code",
   "execution_count": null,
   "id": "2d8df2a8",
   "metadata": {},
   "outputs": [],
   "source": [
    "df = pd.read_csv(\"./best_worst_results.csv\")\n",
    "df"
   ]
  },
  {
   "cell_type": "code",
   "execution_count": null,
   "id": "5fe1aa24",
   "metadata": {},
   "outputs": [],
   "source": [
    "dataset_info_column = df.iloc[:, 1]\n",
    "\n",
    "\n",
    "def dataset_info(name):\n",
    "    _, _, n_reg, concurrent_reg, length, ss = name.split(\"_\")\n",
    "    return int(n_reg), int(concurrent_reg), int(length), \"True\" in ss\n",
    "\n",
    "\n",
    "# add each of the dataset info columns to the dataframe\n",
    "df[\"n_reg\"] = dataset_info_column.apply(lambda x: dataset_info(x)[0])\n",
    "df[\"concurrent_reg\"] = dataset_info_column.apply(lambda x: dataset_info(x)[1])\n",
    "df[\"length\"] = dataset_info_column.apply(lambda x: dataset_info(x)[2])\n",
    "df[\"ss\"] = dataset_info_column.apply(lambda x: dataset_info(x)[3])\n",
    "\n",
    "# for each model, if the n_reg, concurrent_reg, length, and ss are the same, then mark the dataset as\n",
    "# identity: this is the dataset the model was trained on\n",
    "\n",
    "\n",
    "def dataset_same_as_model(row):\n",
    "    nr = row[\"n_reg\"]\n",
    "    cr = row[\"concurrent_reg\"]\n",
    "    length = row[\"length\"]\n",
    "    ss = row[\"ss\"]\n",
    "    model = row[\"model\"]\n",
    "    if f\"model_{nr}_{cr}\" == model and not ss:\n",
    "        return True\n",
    "    if f\"model_{nr}_{cr}_l{length}\" == model and not ss:\n",
    "        return True\n",
    "    if (f\"model_{nr}_{cr}ss\" == model) and ss:\n",
    "        return True\n",
    "\n",
    "    return False\n",
    "\n",
    "\n",
    "df[\"identity\"] = df.apply(lambda x: dataset_same_as_model(x), axis=1)\n",
    "\n",
    "df"
   ]
  },
  {
   "cell_type": "code",
   "execution_count": null,
   "id": "e1d60db6",
   "metadata": {},
   "outputs": [],
   "source": [
    "f, ax = plt.subplots(figsize=(20, 7))\n",
    "sns.barplot(\n",
    "    data=df[df.model.apply(lambda x: \"100\" in x)],\n",
    "    hue=\"dataset\",\n",
    "    y=\"acc\",\n",
    "    x=\"model\",\n",
    "    palette=\"cubehelix\",\n",
    "    alpha=1,\n",
    "    dodge=True,\n",
    "    # groupby=\"identity\",\n",
    ")\n",
    "ax.set_yticks(np.arange(0, 1.1, 0.1))\n",
    "ax.set_ylim(0.5, 1.05)\n",
    "# set xtick rotation to 45 degrees\n",
    "ax.set_xticklabels(ax.get_xticklabels(), rotation=45, ha=\"right\")\n",
    "# add the model eval performance % to xtick labels using the 'orig_acc' column of the dataframe\n",
    "\n",
    "ax.grid(\n",
    "    axis=\"y\",\n",
    "    linestyle=\"--\",\n",
    "    linewidth=0.5,\n",
    "    alpha=0.7,\n",
    ")\n",
    "ax.legend(bbox_to_anchor=(1.23, 1), loc=\"upper right\")\n",
    "f.tight_layout()\n",
    "plt.show()"
   ]
  }
 ],
 "metadata": {
  "kernelspec": {
   "display_name": ".venv",
   "language": "python",
   "name": "python3"
  },
  "language_info": {
   "codemirror_mode": {
    "name": "ipython",
    "version": 3
   },
   "file_extension": ".py",
   "mimetype": "text/x-python",
   "name": "python",
   "nbconvert_exporter": "python",
   "pygments_lexer": "ipython3",
   "version": "3.10.15"
  }
 },
 "nbformat": 4,
 "nbformat_minor": 5
}
